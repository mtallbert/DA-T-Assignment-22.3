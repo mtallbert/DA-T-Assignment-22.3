{
 "cells": [
  {
   "cell_type": "markdown",
   "metadata": {},
   "source": [
    "Write a Python program to find the volume of a sphere with diameter 12 cm.\n"
   ]
  },
  {
   "cell_type": "code",
   "execution_count": 3,
   "metadata": {},
   "outputs": [
    {
     "name": "stdout",
     "output_type": "stream",
     "text": [
      "The volume of a sphere with diameter 12 is 904.78\n"
     ]
    }
   ],
   "source": [
    "import math\n",
    "\n",
    "# the diameter d is given by\n",
    "d = 12\n",
    "\n",
    "# the radius r is given by\n",
    "r = d/2\n",
    "\n",
    "# volume of a sphere is given by\n",
    "sphere_volume = 4/3*math.pi*r**3\n",
    "\n",
    "# volume to 2 decimal places is\n",
    "print(\"The volume of a sphere with diameter 12 is %.2f\" % sphere_volume)"
   ]
  },
  {
   "cell_type": "code",
   "execution_count": null,
   "metadata": {},
   "outputs": [],
   "source": []
  }
 ],
 "metadata": {
  "kernelspec": {
   "display_name": "Python 3",
   "language": "python",
   "name": "python3"
  },
  "language_info": {
   "codemirror_mode": {
    "name": "ipython",
    "version": 3
   },
   "file_extension": ".py",
   "mimetype": "text/x-python",
   "name": "python",
   "nbconvert_exporter": "python",
   "pygments_lexer": "ipython3",
   "version": "3.7.0"
  }
 },
 "nbformat": 4,
 "nbformat_minor": 2
}
